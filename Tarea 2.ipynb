{
 "cells": [
  {
   "cell_type": "code",
   "execution_count": 10,
   "metadata": {},
   "outputs": [],
   "source": [
    "#Defino todas las funciones de perímetro y área\n",
    "import math\n",
    "\n",
    "def perimetro_cuadrado(lado):\n",
    "    return lado*4\n",
    "\n",
    "def area_cuadrado(lado):\n",
    "    return lado*lado\n",
    "\n",
    "def perimetro_rectangulo(base,altura):\n",
    "    return base*2 + altura*2\n",
    "\n",
    "def area_rectangulo(base,altura):\n",
    "    return base*altura\n",
    "\n",
    "def perimetro_circulo(radio):\n",
    "    return 2*math.pi*radio\n",
    "\n",
    "def area_circulo(radio):\n",
    "    return math.pi*radio*radio"
   ]
  },
  {
   "cell_type": "code",
   "execution_count": 11,
   "metadata": {},
   "outputs": [
    {
     "name": "stdout",
     "output_type": "stream",
     "text": [
      "El perímetro del cuadrado es: 20.0\n",
      "El áreea del cuadrado es: 25.0\n"
     ]
    }
   ],
   "source": [
    "#Pongo a prueba las funciones que definí anteriormente respecto al cuadrado\n",
    "\n",
    "lado=float(input(\"¿Cuál es el lado del cuadrado?:\"))\n",
    "per_cuad= perimetro_cuadrado(lado)\n",
    "a_cuad= area_cuadrado(lado)\n",
    "\n",
    "print(\"El perímetro del cuadrado es:\", per_cuad)\n",
    "print(\"El área del cuadrado es:\", a_cuad)"
   ]
  },
  {
   "cell_type": "code",
   "execution_count": 12,
   "metadata": {},
   "outputs": [
    {
     "name": "stdout",
     "output_type": "stream",
     "text": [
      "El perímetro del rectángulo es: 14.0\n",
      "El área del rectángulo es: 10.0\n"
     ]
    }
   ],
   "source": [
    "#Pongo a prueba las funciones que definí anteriormente respecto al rectángulo:\n",
    "\n",
    "base=float(input(\"¿Cuál es la base del rectángulo?:\"))\n",
    "altura=float(input(\"¿Cuál es la altura del rectángulo?:\"))\n",
    "per_rect= perimetro_rectangulo(base,altura)\n",
    "a_rect= area_rectangulo(base,altura)\n",
    "\n",
    "print(\"El perímetro del rectángulo es:\", per_rect)\n",
    "print(\"El área del rectángulo es:\", a_rect)"
   ]
  },
  {
   "cell_type": "code",
   "execution_count": 13,
   "metadata": {},
   "outputs": [
    {
     "name": "stdout",
     "output_type": "stream",
     "text": [
      "El perímetro del círculo es: 31.41592653589793\n",
      "El área del círculo es: 78.53981633974483\n"
     ]
    }
   ],
   "source": [
    "#Pongo a prueba las funciones que definí anteriormente respecto al círculo:\n",
    "\n",
    "radio=float(input(\"¿Cuál es el radio del círculo?:\"))\n",
    "per_circ= perimetro_circulo(radio)\n",
    "a_circ= area_circulo(radio)\n",
    "\n",
    "print(\"El perímetro del círculo es:\", per_circ)\n",
    "print(\"El área del círculo es:\", a_circ)"
   ]
  }
 ],
 "metadata": {
  "kernelspec": {
   "display_name": "base",
   "language": "python",
   "name": "python3"
  },
  "language_info": {
   "codemirror_mode": {
    "name": "ipython",
    "version": 3
   },
   "file_extension": ".py",
   "mimetype": "text/x-python",
   "name": "python",
   "nbconvert_exporter": "python",
   "pygments_lexer": "ipython3",
   "version": "3.10.9"
  },
  "orig_nbformat": 4
 },
 "nbformat": 4,
 "nbformat_minor": 2
}
