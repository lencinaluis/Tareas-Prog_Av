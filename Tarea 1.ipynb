{
 "cells": [
  {
   "cell_type": "code",
   "execution_count": 8,
   "metadata": {},
   "outputs": [
    {
     "name": "stdout",
     "output_type": "stream",
     "text": [
      "El perímetro del cuadrado es: 24.0\n",
      "El área del cuadrado es: 36.0\n"
     ]
    }
   ],
   "source": [
    "lado= float(input(\"Ingresar el lado del cuadrado:\"))\n",
    "perimetro= 4*lado\n",
    "area= lado*lado\n",
    "\n",
    "print(\"El perímetro del cuadrado es:\", perimetro)\n",
    "print(\"El área del cuadrado es:\", area)"
   ]
  },
  {
   "cell_type": "code",
   "execution_count": 9,
   "metadata": {},
   "outputs": [
    {
     "name": "stdout",
     "output_type": "stream",
     "text": [
      "El perímetro del círculo es: 31.41592653589793\n",
      "El área del circulo es: 78.53981633974483\n"
     ]
    }
   ],
   "source": [
    "import math\n",
    "radio= float(input(\"Ingresar el radio del círculo:\"))\n",
    "perimetrocirc= 2*math.pi*radio\n",
    "areacirc= math.pi*radio*radio\n",
    "\n",
    "print(\"El perímetro del círculo es:\", perimetrocirc)\n",
    "print(\"El área del circulo es:\", areacirc)"
   ]
  },
  {
   "cell_type": "code",
   "execution_count": 10,
   "metadata": {},
   "outputs": [
    {
     "name": "stdout",
     "output_type": "stream",
     "text": [
      "El perímetro del rectángulo es: 14.0\n",
      "El área del rectángulo es: 10.0\n"
     ]
    }
   ],
   "source": [
    "base= float(input(\"¿Cuál es la base del rectángulo?:\"))\n",
    "altura= float(input(\"¿Cuál es la altura del rectángulo?:\"))\n",
    "perimetrorect= 2*base + 2*altura\n",
    "arearect= base*altura\n",
    "\n",
    "print(\"El perímetro del rectángulo es:\", perimetrorect)\n",
    "print(\"El área del rectángulo es:\", arearect)"
   ]
  }
 ],
 "metadata": {
  "kernelspec": {
   "display_name": "base",
   "language": "python",
   "name": "python3"
  },
  "language_info": {
   "codemirror_mode": {
    "name": "ipython",
    "version": 3
   },
   "file_extension": ".py",
   "mimetype": "text/x-python",
   "name": "python",
   "nbconvert_exporter": "python",
   "pygments_lexer": "ipython3",
   "version": "3.10.9"
  },
  "orig_nbformat": 4
 },
 "nbformat": 4,
 "nbformat_minor": 2
}
